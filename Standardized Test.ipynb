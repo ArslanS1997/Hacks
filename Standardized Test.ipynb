{
 "cells": [
  {
   "cell_type": "code",
   "execution_count": 2,
   "metadata": {},
   "outputs": [],
   "source": [
    "import ipywidgets as widgets\n",
    "import time\n",
    "#from IPython.display import display\n",
    "from IPython.display import display, Javascript\n",
    "import pandas as pd\n",
    "import datetime;\n",
    "import numpy as np\n",
    "import random"
   ]
  },
  {
   "cell_type": "code",
   "execution_count": 21,
   "metadata": {},
   "outputs": [
    {
     "data": {
      "text/html": [
       "<div>\n",
       "<style scoped>\n",
       "    .dataframe tbody tr th:only-of-type {\n",
       "        vertical-align: middle;\n",
       "    }\n",
       "\n",
       "    .dataframe tbody tr th {\n",
       "        vertical-align: top;\n",
       "    }\n",
       "\n",
       "    .dataframe thead th {\n",
       "        text-align: right;\n",
       "    }\n",
       "</style>\n",
       "<table border=\"1\" class=\"dataframe\">\n",
       "  <thead>\n",
       "    <tr style=\"text-align: right;\">\n",
       "      <th></th>\n",
       "      <th>seconds</th>\n",
       "      <th>Qtype</th>\n",
       "      <th>Option</th>\n",
       "      <th>Correct</th>\n",
       "      <th>From</th>\n",
       "      <th>QNo</th>\n",
       "      <th>Date</th>\n",
       "    </tr>\n",
       "  </thead>\n",
       "  <tbody>\n",
       "  </tbody>\n",
       "</table>\n",
       "</div>"
      ],
      "text/plain": [
       "Empty DataFrame\n",
       "Columns: [seconds, Qtype, Option, Correct, From, QNo, Date]\n",
       "Index: []"
      ]
     },
     "execution_count": 21,
     "metadata": {},
     "output_type": "execute_result"
    }
   ],
   "source": [
    "#df = read_csv('')\n",
    "df = pd.DataFrame(columns=['seconds','Qtype','Option','Correct','From','QNo','Date'])\n",
    "df.head()"
   ]
  },
  {
   "cell_type": "code",
   "execution_count": 43,
   "metadata": {},
   "outputs": [
    {
     "data": {
      "application/vnd.jupyter.widget-view+json": {
       "model_id": "b302584b70fd4a11a209fa79cd12b7a0",
       "version_major": 2,
       "version_minor": 0
      },
      "text/plain": [
       "Text(value='Enter text')"
      ]
     },
     "metadata": {},
     "output_type": "display_data"
    }
   ],
   "source": [
    "Text=widgets.Text(\n",
    "    value='Enter text',\n",
    "    \n",
    "    disabled=False\n",
    ")\n",
    "display(Text)"
   ]
  },
  {
   "cell_type": "code",
   "execution_count": 41,
   "metadata": {},
   "outputs": [],
   "source": [
    "def insert(df,seconds,Qtype,Option,Correct,From,Qno):\n",
    "    \n",
    "    df.loc[-1] = createVal(seconds,Qtype,Option,Correct,From,Qno)\n",
    "    print(\"Value added\")\n",
    "    display(df.loc[-1])\n",
    "    df= df.reset_index(drop=True)\n",
    "    \n",
    "    save(df,'Data.csv')\n",
    "    return df\n",
    "    #return 1\n",
    "    \n",
    "def createVal(seconds,Qtype,Option,Correct,From,Qno):\n",
    "    #adds todays date\n",
    "    date = datetime.datetime.now()\n",
    "    \n",
    "    return [seconds,Qtype,Option,Correct,From,Qno,date]\n",
    "\n",
    "def correct(df,column,loc,value):\n",
    "    df[column].loc[loc] = value\n",
    "def save(df,name):\n",
    "    df.to_csv(name,index=False)"
   ]
  },
  {
   "cell_type": "code",
   "execution_count": 45,
   "metadata": {},
   "outputs": [
    {
     "data": {
      "application/vnd.jupyter.widget-view+json": {
       "model_id": "2bb3054aa74f4e44b9bf40347ce40813",
       "version_major": 2,
       "version_minor": 0
      },
      "text/plain": [
       "HBox(children=(Play(value=0, description='Timer', interval=1000, max=1000), IntSlider(value=0, max=1000)))"
      ]
     },
     "metadata": {},
     "output_type": "display_data"
    },
    {
     "data": {
      "application/vnd.jupyter.widget-view+json": {
       "model_id": "584979b9e6054538baf0474dc58b6d74",
       "version_major": 2,
       "version_minor": 0
      },
      "text/plain": [
       "RadioButtons(description='Qtype:', options=('IR', 'Verbal', 'Quant'), value='IR')"
      ]
     },
     "metadata": {},
     "output_type": "display_data"
    },
    {
     "data": {
      "application/vnd.jupyter.widget-view+json": {
       "model_id": "54b16ce82710429b87e6de55aadb7355",
       "version_major": 2,
       "version_minor": 0
      },
      "text/plain": [
       "RadioButtons(description='Options:', options=('A', 'B', 'C', 'D', 'E'), value='A')"
      ]
     },
     "metadata": {},
     "output_type": "display_data"
    },
    {
     "data": {
      "application/vnd.jupyter.widget-view+json": {
       "model_id": "b577c82f418e412aa4e8663425236cfd",
       "version_major": 2,
       "version_minor": 0
      },
      "text/plain": [
       "RadioButtons(description='Correct:', layout=Layout(width='max-content'), options=('A', 'B', 'C', 'D', 'E'), va…"
      ]
     },
     "metadata": {},
     "output_type": "display_data"
    },
    {
     "data": {
      "application/vnd.jupyter.widget-view+json": {
       "model_id": "7904ca96ee77472a937970f63e07c8e6",
       "version_major": 2,
       "version_minor": 0
      },
      "text/plain": [
       "Text(value='GMAT_StudyGuide', description='From:', placeholder='Paste ticket description here!')"
      ]
     },
     "metadata": {},
     "output_type": "display_data"
    },
    {
     "data": {
      "application/vnd.jupyter.widget-view+json": {
       "model_id": "5b3d9299b8814baba7ca28ece7bcec60",
       "version_major": 2,
       "version_minor": 0
      },
      "text/plain": [
       "Text(value='Chp_', description='Question Number', placeholder='Paste ticket description here!')"
      ]
     },
     "metadata": {},
     "output_type": "display_data"
    },
    {
     "data": {
      "application/vnd.jupyter.widget-view+json": {
       "model_id": "6dbf0dd9b0bb44589127eff7a2ebd541",
       "version_major": 2,
       "version_minor": 0
      },
      "text/plain": [
       "Button(description='Insert', style=ButtonStyle(), tooltip='Click to add to dataframe')"
      ]
     },
     "metadata": {},
     "output_type": "display_data"
    },
    {
     "name": "stdout",
     "output_type": "stream",
     "text": [
      "0\n"
     ]
    }
   ],
   "source": [
    "df\n",
    "play = widgets.Play(\n",
    "    value=0,\n",
    "    min=0,\n",
    "    max=1000,\n",
    "    step=1,\n",
    "    interval=1000,\n",
    "    description=\"Timer\",\n",
    "    disabled=False\n",
    ")\n",
    "slider = widgets.IntSlider(min=0,max=1000)\n",
    "widgets.jslink((play, 'value'), (slider, 'value'))\n",
    "\n",
    "display(widgets.HBox([play, slider]))\n",
    "\n",
    "Q_type=widgets.RadioButtons(\n",
    "    options=['IR', 'Verbal', 'Quant'],\n",
    "#    value='pineapple', # Defaults to 'pineapple'\n",
    "#    layout={'width': 'max-content'}, # If the items' names are long\n",
    "    description='Qtype:',\n",
    "    disabled=False\n",
    ")\n",
    "display(Q_type)\n",
    "Option_Selected =widgets.RadioButtons(\n",
    "    options=['A', 'B', 'C','D','E'],\n",
    "#    value='pineapple', # Defaults to 'pineapple'\n",
    "#    layout={'width': 'max-content'}, # If the items' names are long\n",
    "    description='Options:',\n",
    "    disabled=False\n",
    ")\n",
    "display(Option_Selected)\n",
    "Correct = widgets.RadioButtons(\n",
    "    options=['A', 'B', 'C','D','E'],\n",
    "#    value='pineapple', # Defaults to 'pineapple'\n",
    "    layout={'width': 'max-content'}, # If the items' names are long\n",
    "    description='Correct:',\n",
    "    disabled=False\n",
    ")\n",
    "display(Correct)\n",
    "From = widgets.Text(\n",
    "    value='GMAT_StudyGuide',\n",
    "    placeholder='Paste ticket description here!',\n",
    "    description='From:',\n",
    "    disabled=False\n",
    ")\n",
    "QNo=widgets.Text(\n",
    "    value='Chp_',\n",
    "    placeholder='Paste ticket description here!',\n",
    "    description='Question Number',\n",
    "    disabled=False\n",
    ")\n",
    "display(From,QNo)\n",
    "Button = widgets.Button(\n",
    "    description='Insert',\n",
    "    disabled=False,\n",
    "    button_style='', # 'success', 'info', 'warning', 'danger' or ''\n",
    "    tooltip='Click to add to dataframe',\n",
    "    #icon='check' # (FontAwesome names without the `fa-` prefix)\n",
    ")\n",
    "def i(b):\n",
    "    insert(df,slider.value,Q_type.value,Option_Selected.value,Correct.value,From.value,QNo.value)\n",
    "    \n",
    "Button.on_click(i)\n",
    "display(Button)\n",
    "#df= df.reset_index(drop=True)\n",
    "print(slider.value)"
   ]
  },
  {
   "cell_type": "code",
   "execution_count": 46,
   "metadata": {},
   "outputs": [
    {
     "name": "stdout",
     "output_type": "stream",
     "text": [
      "155\n"
     ]
    }
   ],
   "source": [
    "print(slider.value)"
   ]
  },
  {
   "cell_type": "code",
   "execution_count": 40,
   "metadata": {},
   "outputs": [
    {
     "data": {
      "text/html": [
       "<div>\n",
       "<style scoped>\n",
       "    .dataframe tbody tr th:only-of-type {\n",
       "        vertical-align: middle;\n",
       "    }\n",
       "\n",
       "    .dataframe tbody tr th {\n",
       "        vertical-align: top;\n",
       "    }\n",
       "\n",
       "    .dataframe thead th {\n",
       "        text-align: right;\n",
       "    }\n",
       "</style>\n",
       "<table border=\"1\" class=\"dataframe\">\n",
       "  <thead>\n",
       "    <tr style=\"text-align: right;\">\n",
       "      <th></th>\n",
       "      <th>seconds</th>\n",
       "      <th>Qtype</th>\n",
       "      <th>Option</th>\n",
       "      <th>Correct</th>\n",
       "      <th>From</th>\n",
       "      <th>QNo</th>\n",
       "      <th>Date</th>\n",
       "    </tr>\n",
       "  </thead>\n",
       "  <tbody>\n",
       "    <tr>\n",
       "      <th>0</th>\n",
       "      <td>0</td>\n",
       "      <td>IR</td>\n",
       "      <td>A</td>\n",
       "      <td>A</td>\n",
       "      <td>GMAT_StudyGuide</td>\n",
       "      <td>Chp_</td>\n",
       "      <td>2020-10-17 14:37:22.535691</td>\n",
       "    </tr>\n",
       "    <tr>\n",
       "      <th>1</th>\n",
       "      <td>0</td>\n",
       "      <td>IR</td>\n",
       "      <td>A</td>\n",
       "      <td>A</td>\n",
       "      <td>GMAT_StudyGuide</td>\n",
       "      <td>Chp_</td>\n",
       "      <td>2020-10-17 14:38:37.638425</td>\n",
       "    </tr>\n",
       "    <tr>\n",
       "      <th>-1</th>\n",
       "      <td>0</td>\n",
       "      <td>IR</td>\n",
       "      <td>A</td>\n",
       "      <td>A</td>\n",
       "      <td>GMAT_StudyGuide</td>\n",
       "      <td>Chp_</td>\n",
       "      <td>2020-10-17 14:38:58.282125</td>\n",
       "    </tr>\n",
       "  </tbody>\n",
       "</table>\n",
       "</div>"
      ],
      "text/plain": [
       "   seconds Qtype Option Correct             From   QNo  \\\n",
       " 0       0    IR      A       A  GMAT_StudyGuide  Chp_   \n",
       " 1       0    IR      A       A  GMAT_StudyGuide  Chp_   \n",
       "-1       0    IR      A       A  GMAT_StudyGuide  Chp_   \n",
       "\n",
       "                         Date  \n",
       " 0 2020-10-17 14:37:22.535691  \n",
       " 1 2020-10-17 14:38:37.638425  \n",
       "-1 2020-10-17 14:38:58.282125  "
      ]
     },
     "execution_count": 40,
     "metadata": {},
     "output_type": "execute_result"
    }
   ],
   "source": [
    "df"
   ]
  },
  {
   "cell_type": "code",
   "execution_count": 45,
   "metadata": {},
   "outputs": [
    {
     "data": {
      "text/html": [
       "<div>\n",
       "<style scoped>\n",
       "    .dataframe tbody tr th:only-of-type {\n",
       "        vertical-align: middle;\n",
       "    }\n",
       "\n",
       "    .dataframe tbody tr th {\n",
       "        vertical-align: top;\n",
       "    }\n",
       "\n",
       "    .dataframe thead th {\n",
       "        text-align: right;\n",
       "    }\n",
       "</style>\n",
       "<table border=\"1\" class=\"dataframe\">\n",
       "  <thead>\n",
       "    <tr style=\"text-align: right;\">\n",
       "      <th></th>\n",
       "      <th>seconds</th>\n",
       "      <th>Qtype</th>\n",
       "      <th>isCorrect</th>\n",
       "      <th>Testtype</th>\n",
       "      <th>From</th>\n",
       "      <th>Date</th>\n",
       "    </tr>\n",
       "  </thead>\n",
       "  <tbody>\n",
       "    <tr>\n",
       "      <th>0</th>\n",
       "      <td>19</td>\n",
       "      <td>IR</td>\n",
       "      <td>True</td>\n",
       "      <td>GMAT</td>\n",
       "      <td>GMAT_StudyGuide</td>\n",
       "      <td>2020-10-16 15:42:32.365946</td>\n",
       "    </tr>\n",
       "    <tr>\n",
       "      <th>1</th>\n",
       "      <td>19</td>\n",
       "      <td>IR</td>\n",
       "      <td>True</td>\n",
       "      <td>GMAT</td>\n",
       "      <td>GMAT_StudyGuide</td>\n",
       "      <td>2020-10-16 15:42:32.375510</td>\n",
       "    </tr>\n",
       "  </tbody>\n",
       "</table>\n",
       "</div>"
      ],
      "text/plain": [
       "  seconds Qtype isCorrect Testtype             From                       Date\n",
       "0      19    IR      True     GMAT  GMAT_StudyGuide 2020-10-16 15:42:32.365946\n",
       "1      19    IR      True     GMAT  GMAT_StudyGuide 2020-10-16 15:42:32.375510"
      ]
     },
     "execution_count": 45,
     "metadata": {},
     "output_type": "execute_result"
    }
   ],
   "source": [
    "data =pd.DataFrame(columns=)\n",
    "data.loc[-1]=createVal(slider.value,'IR',True,'GMAT','GMAT_StudyGuide')\n",
    "data = data.reset_index(drop=True)\n",
    "data.head()\n",
    "data.loc[-1]=createVal(slider.value,'IR',True,'GMAT','A',generateFrom(True,Q(7,10)))\n",
    "data = data.reset_index(drop=True)\n",
    "data.head()"
   ]
  },
  {
   "cell_type": "code",
   "execution_count": 50,
   "metadata": {},
   "outputs": [
    {
     "name": "stderr",
     "output_type": "stream",
     "text": [
      "C:\\Users\\Arslan Shahid\\Anaconda3\\lib\\site-packages\\pandas\\core\\indexing.py:670: SettingWithCopyWarning: \n",
      "A value is trying to be set on a copy of a slice from a DataFrame\n",
      "\n",
      "See the caveats in the documentation: https://pandas.pydata.org/pandas-docs/stable/user_guide/indexing.html#returning-a-view-versus-a-copy\n",
      "  self._setitem_with_indexer(indexer, value)\n"
     ]
    }
   ],
   "source": [
    "data['seconds'].loc[0]=999"
   ]
  },
  {
   "cell_type": "code",
   "execution_count": 56,
   "metadata": {},
   "outputs": [
    {
     "data": {
      "text/html": [
       "<div>\n",
       "<style scoped>\n",
       "    .dataframe tbody tr th:only-of-type {\n",
       "        vertical-align: middle;\n",
       "    }\n",
       "\n",
       "    .dataframe tbody tr th {\n",
       "        vertical-align: top;\n",
       "    }\n",
       "\n",
       "    .dataframe thead th {\n",
       "        text-align: right;\n",
       "    }\n",
       "</style>\n",
       "<table border=\"1\" class=\"dataframe\">\n",
       "  <thead>\n",
       "    <tr style=\"text-align: right;\">\n",
       "      <th></th>\n",
       "      <th>seconds</th>\n",
       "      <th>Qtype</th>\n",
       "      <th>isCorrect</th>\n",
       "      <th>Testtype</th>\n",
       "      <th>From</th>\n",
       "      <th>Date</th>\n",
       "    </tr>\n",
       "  </thead>\n",
       "  <tbody>\n",
       "    <tr>\n",
       "      <th>0</th>\n",
       "      <td>60</td>\n",
       "      <td>IR</td>\n",
       "      <td>True</td>\n",
       "      <td>GMAT</td>\n",
       "      <td>GMAT_StudyGuide</td>\n",
       "      <td>2020-10-16 15:42:32.365946</td>\n",
       "    </tr>\n",
       "    <tr>\n",
       "      <th>1</th>\n",
       "      <td>19</td>\n",
       "      <td>IR</td>\n",
       "      <td>True</td>\n",
       "      <td>GMAT</td>\n",
       "      <td>GMAT_StudyGuide</td>\n",
       "      <td>2020-10-16 15:42:32.375510</td>\n",
       "    </tr>\n",
       "  </tbody>\n",
       "</table>\n",
       "</div>"
      ],
      "text/plain": [
       "  seconds Qtype isCorrect Testtype             From                       Date\n",
       "0      60    IR      True     GMAT  GMAT_StudyGuide 2020-10-16 15:42:32.365946\n",
       "1      19    IR      True     GMAT  GMAT_StudyGuide 2020-10-16 15:42:32.375510"
      ]
     },
     "execution_count": 56,
     "metadata": {},
     "output_type": "execute_result"
    }
   ],
   "source": [
    "correct(data,'seconds',0,60)\n",
    "data.head()"
   ]
  },
  {
   "cell_type": "code",
   "execution_count": 79,
   "metadata": {},
   "outputs": [],
   "source": [
    "from datetime import timedelta\n",
    "seconds_list = [np.random.randint(50,300) for i in range(100)]\n",
    "listtype =['IR','Verbal','Quant']\n",
    "Qtype = [listtype[i%3] for i in range(100)]\n",
    "Testtype = ['GMAT' for i in range(100)]\n",
    "From = ['GMAT_StudyGuide...' for i in range(100)]\n",
    "Answertype =['A','B','C','D','E']\n",
    "Option = [Answertype[i%5] for i in range(100)]\n",
    "CorrectType = [True,False]\n",
    "isCorrect= [CorrectType[i%2] for i in range(100)]\n",
    "CorrectAnswer =[Option[i] for i in range(50)]\n",
    "Biaslist = [Answertype[i%5] for i in range(50)]\n",
    "for a in Biaslist:\n",
    "    CorrectAnswer.append(a)\n",
    "Date = [datetime.datetime.now()+timedelta(days=np.floor(i/10),minutes=i*3) for i in range(100)]\n"
   ]
  },
  {
   "cell_type": "code",
   "execution_count": 80,
   "metadata": {},
   "outputs": [
    {
     "data": {
      "text/html": [
       "<div>\n",
       "<style scoped>\n",
       "    .dataframe tbody tr th:only-of-type {\n",
       "        vertical-align: middle;\n",
       "    }\n",
       "\n",
       "    .dataframe tbody tr th {\n",
       "        vertical-align: top;\n",
       "    }\n",
       "\n",
       "    .dataframe thead th {\n",
       "        text-align: right;\n",
       "    }\n",
       "</style>\n",
       "<table border=\"1\" class=\"dataframe\">\n",
       "  <thead>\n",
       "    <tr style=\"text-align: right;\">\n",
       "      <th></th>\n",
       "      <th>seconds</th>\n",
       "      <th>Qtype</th>\n",
       "      <th>From</th>\n",
       "      <th>Option</th>\n",
       "      <th>CorrectAnswer</th>\n",
       "      <th>Date</th>\n",
       "    </tr>\n",
       "  </thead>\n",
       "  <tbody>\n",
       "    <tr>\n",
       "      <th>0</th>\n",
       "      <td>243</td>\n",
       "      <td>IR</td>\n",
       "      <td>GMAT_StudyGuide...</td>\n",
       "      <td>A</td>\n",
       "      <td>A</td>\n",
       "      <td>2020-10-17 16:13:27.796164</td>\n",
       "    </tr>\n",
       "    <tr>\n",
       "      <th>1</th>\n",
       "      <td>284</td>\n",
       "      <td>Verbal</td>\n",
       "      <td>GMAT_StudyGuide...</td>\n",
       "      <td>B</td>\n",
       "      <td>B</td>\n",
       "      <td>2020-10-17 16:16:27.796164</td>\n",
       "    </tr>\n",
       "    <tr>\n",
       "      <th>2</th>\n",
       "      <td>181</td>\n",
       "      <td>Quant</td>\n",
       "      <td>GMAT_StudyGuide...</td>\n",
       "      <td>C</td>\n",
       "      <td>C</td>\n",
       "      <td>2020-10-17 16:19:27.796164</td>\n",
       "    </tr>\n",
       "    <tr>\n",
       "      <th>3</th>\n",
       "      <td>284</td>\n",
       "      <td>IR</td>\n",
       "      <td>GMAT_StudyGuide...</td>\n",
       "      <td>D</td>\n",
       "      <td>D</td>\n",
       "      <td>2020-10-17 16:22:27.796164</td>\n",
       "    </tr>\n",
       "    <tr>\n",
       "      <th>4</th>\n",
       "      <td>195</td>\n",
       "      <td>Verbal</td>\n",
       "      <td>GMAT_StudyGuide...</td>\n",
       "      <td>E</td>\n",
       "      <td>E</td>\n",
       "      <td>2020-10-17 16:25:27.796164</td>\n",
       "    </tr>\n",
       "  </tbody>\n",
       "</table>\n",
       "</div>"
      ],
      "text/plain": [
       "   seconds   Qtype                From Option CorrectAnswer  \\\n",
       "0      243      IR  GMAT_StudyGuide...      A             A   \n",
       "1      284  Verbal  GMAT_StudyGuide...      B             B   \n",
       "2      181   Quant  GMAT_StudyGuide...      C             C   \n",
       "3      284      IR  GMAT_StudyGuide...      D             D   \n",
       "4      195  Verbal  GMAT_StudyGuide...      E             E   \n",
       "\n",
       "                        Date  \n",
       "0 2020-10-17 16:13:27.796164  \n",
       "1 2020-10-17 16:16:27.796164  \n",
       "2 2020-10-17 16:19:27.796164  \n",
       "3 2020-10-17 16:22:27.796164  \n",
       "4 2020-10-17 16:25:27.796164  "
      ]
     },
     "execution_count": 80,
     "metadata": {},
     "output_type": "execute_result"
    }
   ],
   "source": [
    "data= pd.DataFrame()\n",
    "data['seconds'] = seconds_list\n",
    "data['Qtype'] = Qtype\n",
    "#data['Testtype'] = Testtype\n",
    "data['From'] = From\n",
    "data['Option'] = Option\n",
    "data['CorrectAnswer'] = CorrectAnswer\n",
    "data['Date'] = Date\n",
    "data.head()"
   ]
  },
  {
   "cell_type": "code",
   "execution_count": 81,
   "metadata": {},
   "outputs": [],
   "source": [
    "data['isCorrect'] = [True if i['Option']==i['CorrectAnswer'] else False for index,i in data.iterrows()]"
   ]
  },
  {
   "cell_type": "code",
   "execution_count": 82,
   "metadata": {},
   "outputs": [],
   "source": [
    "d=data.groupby('Qtype')"
   ]
  },
  {
   "cell_type": "code",
   "execution_count": 83,
   "metadata": {},
   "outputs": [
    {
     "data": {
      "text/html": [
       "<div>\n",
       "<style scoped>\n",
       "    .dataframe tbody tr th:only-of-type {\n",
       "        vertical-align: middle;\n",
       "    }\n",
       "\n",
       "    .dataframe tbody tr th {\n",
       "        vertical-align: top;\n",
       "    }\n",
       "\n",
       "    .dataframe thead th {\n",
       "        text-align: right;\n",
       "    }\n",
       "</style>\n",
       "<table border=\"1\" class=\"dataframe\">\n",
       "  <thead>\n",
       "    <tr style=\"text-align: right;\">\n",
       "      <th></th>\n",
       "      <th>seconds</th>\n",
       "      <th>Qtype</th>\n",
       "      <th>From</th>\n",
       "      <th>Option</th>\n",
       "      <th>CorrectAnswer</th>\n",
       "      <th>Date</th>\n",
       "      <th>isCorrect</th>\n",
       "      <th>week</th>\n",
       "    </tr>\n",
       "  </thead>\n",
       "  <tbody>\n",
       "    <tr>\n",
       "      <th>0</th>\n",
       "      <td>243</td>\n",
       "      <td>IR</td>\n",
       "      <td>GMAT_StudyGuide...</td>\n",
       "      <td>A</td>\n",
       "      <td>A</td>\n",
       "      <td>2020-10-17 16:13:27.796164</td>\n",
       "      <td>True</td>\n",
       "      <td>42</td>\n",
       "    </tr>\n",
       "    <tr>\n",
       "      <th>1</th>\n",
       "      <td>284</td>\n",
       "      <td>Verbal</td>\n",
       "      <td>GMAT_StudyGuide...</td>\n",
       "      <td>B</td>\n",
       "      <td>B</td>\n",
       "      <td>2020-10-17 16:16:27.796164</td>\n",
       "      <td>True</td>\n",
       "      <td>42</td>\n",
       "    </tr>\n",
       "    <tr>\n",
       "      <th>2</th>\n",
       "      <td>181</td>\n",
       "      <td>Quant</td>\n",
       "      <td>GMAT_StudyGuide...</td>\n",
       "      <td>C</td>\n",
       "      <td>C</td>\n",
       "      <td>2020-10-17 16:19:27.796164</td>\n",
       "      <td>True</td>\n",
       "      <td>42</td>\n",
       "    </tr>\n",
       "    <tr>\n",
       "      <th>3</th>\n",
       "      <td>284</td>\n",
       "      <td>IR</td>\n",
       "      <td>GMAT_StudyGuide...</td>\n",
       "      <td>D</td>\n",
       "      <td>D</td>\n",
       "      <td>2020-10-17 16:22:27.796164</td>\n",
       "      <td>True</td>\n",
       "      <td>42</td>\n",
       "    </tr>\n",
       "    <tr>\n",
       "      <th>4</th>\n",
       "      <td>195</td>\n",
       "      <td>Verbal</td>\n",
       "      <td>GMAT_StudyGuide...</td>\n",
       "      <td>E</td>\n",
       "      <td>E</td>\n",
       "      <td>2020-10-17 16:25:27.796164</td>\n",
       "      <td>True</td>\n",
       "      <td>42</td>\n",
       "    </tr>\n",
       "    <tr>\n",
       "      <th>...</th>\n",
       "      <td>...</td>\n",
       "      <td>...</td>\n",
       "      <td>...</td>\n",
       "      <td>...</td>\n",
       "      <td>...</td>\n",
       "      <td>...</td>\n",
       "      <td>...</td>\n",
       "      <td>...</td>\n",
       "    </tr>\n",
       "    <tr>\n",
       "      <th>95</th>\n",
       "      <td>106</td>\n",
       "      <td>Quant</td>\n",
       "      <td>GMAT_StudyGuide...</td>\n",
       "      <td>A</td>\n",
       "      <td>A</td>\n",
       "      <td>2020-10-26 20:58:27.796164</td>\n",
       "      <td>True</td>\n",
       "      <td>44</td>\n",
       "    </tr>\n",
       "    <tr>\n",
       "      <th>96</th>\n",
       "      <td>141</td>\n",
       "      <td>IR</td>\n",
       "      <td>GMAT_StudyGuide...</td>\n",
       "      <td>B</td>\n",
       "      <td>B</td>\n",
       "      <td>2020-10-26 21:01:27.796164</td>\n",
       "      <td>True</td>\n",
       "      <td>44</td>\n",
       "    </tr>\n",
       "    <tr>\n",
       "      <th>97</th>\n",
       "      <td>180</td>\n",
       "      <td>Verbal</td>\n",
       "      <td>GMAT_StudyGuide...</td>\n",
       "      <td>C</td>\n",
       "      <td>C</td>\n",
       "      <td>2020-10-26 21:04:27.796164</td>\n",
       "      <td>True</td>\n",
       "      <td>44</td>\n",
       "    </tr>\n",
       "    <tr>\n",
       "      <th>98</th>\n",
       "      <td>197</td>\n",
       "      <td>Quant</td>\n",
       "      <td>GMAT_StudyGuide...</td>\n",
       "      <td>D</td>\n",
       "      <td>D</td>\n",
       "      <td>2020-10-26 21:07:27.796164</td>\n",
       "      <td>True</td>\n",
       "      <td>44</td>\n",
       "    </tr>\n",
       "    <tr>\n",
       "      <th>99</th>\n",
       "      <td>79</td>\n",
       "      <td>IR</td>\n",
       "      <td>GMAT_StudyGuide...</td>\n",
       "      <td>E</td>\n",
       "      <td>E</td>\n",
       "      <td>2020-10-26 21:10:27.796164</td>\n",
       "      <td>True</td>\n",
       "      <td>44</td>\n",
       "    </tr>\n",
       "  </tbody>\n",
       "</table>\n",
       "<p>100 rows × 8 columns</p>\n",
       "</div>"
      ],
      "text/plain": [
       "    seconds   Qtype                From Option CorrectAnswer  \\\n",
       "0       243      IR  GMAT_StudyGuide...      A             A   \n",
       "1       284  Verbal  GMAT_StudyGuide...      B             B   \n",
       "2       181   Quant  GMAT_StudyGuide...      C             C   \n",
       "3       284      IR  GMAT_StudyGuide...      D             D   \n",
       "4       195  Verbal  GMAT_StudyGuide...      E             E   \n",
       "..      ...     ...                 ...    ...           ...   \n",
       "95      106   Quant  GMAT_StudyGuide...      A             A   \n",
       "96      141      IR  GMAT_StudyGuide...      B             B   \n",
       "97      180  Verbal  GMAT_StudyGuide...      C             C   \n",
       "98      197   Quant  GMAT_StudyGuide...      D             D   \n",
       "99       79      IR  GMAT_StudyGuide...      E             E   \n",
       "\n",
       "                         Date  isCorrect week  \n",
       "0  2020-10-17 16:13:27.796164       True   42  \n",
       "1  2020-10-17 16:16:27.796164       True   42  \n",
       "2  2020-10-17 16:19:27.796164       True   42  \n",
       "3  2020-10-17 16:22:27.796164       True   42  \n",
       "4  2020-10-17 16:25:27.796164       True   42  \n",
       "..                        ...        ...  ...  \n",
       "95 2020-10-26 20:58:27.796164       True   44  \n",
       "96 2020-10-26 21:01:27.796164       True   44  \n",
       "97 2020-10-26 21:04:27.796164       True   44  \n",
       "98 2020-10-26 21:07:27.796164       True   44  \n",
       "99 2020-10-26 21:10:27.796164       True   44  \n",
       "\n",
       "[100 rows x 8 columns]"
      ]
     },
     "execution_count": 83,
     "metadata": {},
     "output_type": "execute_result"
    }
   ],
   "source": [
    "data['week'] = [i.strftime(\"%V\") for i in data['Date']]\n",
    "data"
   ]
  },
  {
   "cell_type": "code",
   "execution_count": 91,
   "metadata": {},
   "outputs": [
    {
     "data": {
      "text/html": [
       "<div>\n",
       "<style scoped>\n",
       "    .dataframe tbody tr th:only-of-type {\n",
       "        vertical-align: middle;\n",
       "    }\n",
       "\n",
       "    .dataframe tbody tr th {\n",
       "        vertical-align: top;\n",
       "    }\n",
       "\n",
       "    .dataframe thead th {\n",
       "        text-align: right;\n",
       "    }\n",
       "</style>\n",
       "<table border=\"1\" class=\"dataframe\">\n",
       "  <thead>\n",
       "    <tr style=\"text-align: right;\">\n",
       "      <th></th>\n",
       "      <th>week</th>\n",
       "      <th>Qtype</th>\n",
       "      <th>seconds</th>\n",
       "      <th>isCorrect</th>\n",
       "    </tr>\n",
       "  </thead>\n",
       "  <tbody>\n",
       "    <tr>\n",
       "      <th>0</th>\n",
       "      <td>42</td>\n",
       "      <td>IR</td>\n",
       "      <td>203.857143</td>\n",
       "      <td>True</td>\n",
       "    </tr>\n",
       "    <tr>\n",
       "      <th>1</th>\n",
       "      <td>42</td>\n",
       "      <td>Quant</td>\n",
       "      <td>123.000000</td>\n",
       "      <td>True</td>\n",
       "    </tr>\n",
       "    <tr>\n",
       "      <th>2</th>\n",
       "      <td>42</td>\n",
       "      <td>Verbal</td>\n",
       "      <td>202.714286</td>\n",
       "      <td>True</td>\n",
       "    </tr>\n",
       "    <tr>\n",
       "      <th>3</th>\n",
       "      <td>43</td>\n",
       "      <td>IR</td>\n",
       "      <td>174.739130</td>\n",
       "      <td>True</td>\n",
       "    </tr>\n",
       "    <tr>\n",
       "      <th>4</th>\n",
       "      <td>43</td>\n",
       "      <td>Quant</td>\n",
       "      <td>185.791667</td>\n",
       "      <td>True</td>\n",
       "    </tr>\n",
       "    <tr>\n",
       "      <th>5</th>\n",
       "      <td>43</td>\n",
       "      <td>Verbal</td>\n",
       "      <td>173.608696</td>\n",
       "      <td>True</td>\n",
       "    </tr>\n",
       "    <tr>\n",
       "      <th>6</th>\n",
       "      <td>44</td>\n",
       "      <td>IR</td>\n",
       "      <td>175.500000</td>\n",
       "      <td>True</td>\n",
       "    </tr>\n",
       "    <tr>\n",
       "      <th>7</th>\n",
       "      <td>44</td>\n",
       "      <td>Quant</td>\n",
       "      <td>198.666667</td>\n",
       "      <td>True</td>\n",
       "    </tr>\n",
       "    <tr>\n",
       "      <th>8</th>\n",
       "      <td>44</td>\n",
       "      <td>Verbal</td>\n",
       "      <td>165.333333</td>\n",
       "      <td>True</td>\n",
       "    </tr>\n",
       "  </tbody>\n",
       "</table>\n",
       "</div>"
      ],
      "text/plain": [
       "  week   Qtype     seconds  isCorrect\n",
       "0   42      IR  203.857143       True\n",
       "1   42   Quant  123.000000       True\n",
       "2   42  Verbal  202.714286       True\n",
       "3   43      IR  174.739130       True\n",
       "4   43   Quant  185.791667       True\n",
       "5   43  Verbal  173.608696       True\n",
       "6   44      IR  175.500000       True\n",
       "7   44   Quant  198.666667       True\n",
       "8   44  Verbal  165.333333       True"
      ]
     },
     "execution_count": 91,
     "metadata": {},
     "output_type": "execute_result"
    }
   ],
   "source": [
    "d=data.groupby(['week','Qtype']).mean()\n",
    "d= pd.DataFrame(d)\n",
    "d.reset_index(inplace=True)\n",
    "d"
   ]
  },
  {
   "cell_type": "code",
   "execution_count": 100,
   "metadata": {},
   "outputs": [
    {
     "data": {
      "text/plain": [
       "<matplotlib.axes._subplots.AxesSubplot at 0x23136223da0>"
      ]
     },
     "execution_count": 100,
     "metadata": {},
     "output_type": "execute_result"
    },
    {
     "data": {
      "image/png": "[encoded data removed]",
      "text/plain": [
       "<Figure size 432x288 with 1 Axes>"
      ]
     },
     "metadata": {
      "needs_background": "light"
     },
     "output_type": "display_data"
    }
   ],
   "source": [
    "d = d.pivot(index='week', columns='Qtype', values='seconds')\n",
    "d.plot()"
   ]
  },
  {
   "cell_type": "code",
   "execution_count": 99,
   "metadata": {},
   "outputs": [
    {
     "data": {
      "text/plain": [
       "array([<matplotlib.axes._subplots.AxesSubplot object at 0x0000023136216048>],\n",
       "      dtype=object)"
      ]
     },
     "execution_count": 99,
     "metadata": {},
     "output_type": "execute_result"
    },
    {
     "data": {
      "image/png": "[encoded data removed]",
      "text/plain": [
       "<Figure size 432x288 with 1 Axes>"
      ]
     },
     "metadata": {
      "needs_background": "light"
     },
     "output_type": "display_data"
    }
   ],
   "source": [
    "d.plot(x='week',y='seconds',kind='line',subplots=True)"
   ]
  },
  {
   "cell_type": "code",
   "execution_count": null,
   "metadata": {},
   "outputs": [],
   "source": []
  }
 ],
 "metadata": {
  "kernelspec": {
   "display_name": "Python 3",
   "language": "python",
   "name": "python3"
  },
  "language_info": {
   "codemirror_mode": {
    "name": "ipython",
    "version": 3
   },
   "file_extension": ".py",
   "mimetype": "text/x-python",
   "name": "python",
   "nbconvert_exporter": "python",
   "pygments_lexer": "ipython3",
   "version": "3.7.1"
  }
 },
 "nbformat": 4,
 "nbformat_minor": 4
}
